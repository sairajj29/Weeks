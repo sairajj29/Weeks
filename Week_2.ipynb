{
  "nbformat": 4,
  "nbformat_minor": 0,
  "metadata": {
    "colab": {
      "provenance": [],
      "collapsed_sections": [],
      "include_colab_link": true
    },
    "kernelspec": {
      "name": "python3",
      "display_name": "Python 3"
    },
    "language_info": {
      "name": "python"
    }
  },
  "cells": [
    {
      "cell_type": "markdown",
      "metadata": {
        "id": "view-in-github",
        "colab_type": "text"
      },
      "source": [
        "<a href=\"https://colab.research.google.com/github/sairajj29/Weeks/blob/main/Week_2.ipynb\" target=\"_parent\"><img src=\"https://colab.research.google.com/assets/colab-badge.svg\" alt=\"Open In Colab\"/></a>"
      ]
    },
    {
      "cell_type": "code",
      "execution_count": null,
      "metadata": {
        "colab": {
          "base_uri": "https://localhost:8080/"
        },
        "id": "5BIbTB6emmU-",
        "outputId": "c48abb87-9b36-4039-850a-4dddad20a145"
      },
      "outputs": [
        {
          "output_type": "stream",
          "name": "stdout",
          "text": [
            "3\n",
            "3\n"
          ]
        }
      ],
      "source": [
        "def sum_three(a,b,c):\n",
        " if a==b or b==c or c==a:\n",
        "   sum=3\n",
        " else:\n",
        "   sum=3\n",
        " return sum\n",
        "print(sum_three(4,6,8))\n",
        "print(sum_three(3,2,1))"
      ]
    },
    {
      "cell_type": "code",
      "source": [
        "2\n",
        "def DtoLoT(dict):\n",
        "    dict = {'Vaishnavi':16, 'Sairaj':67, 'Ketan':25, 'Vedant':45}\n",
        "    list = [(k, v) for k, v in dict.items()]\n",
        "\n",
        "    list.sort(key = lambda x: x[0])\n",
        "    return list\n",
        "\n",
        "print(DtoLoT(dict))"
      ],
      "metadata": {
        "colab": {
          "base_uri": "https://localhost:8080/"
        },
        "id": "d_C_jN_6qRJL",
        "outputId": "1468a0f7-feb5-408e-9f29-ff6fd09ef3e8"
      },
      "execution_count": null,
      "outputs": [
        {
          "output_type": "stream",
          "name": "stdout",
          "text": [
            "[('Ketan', 25), ('Sairaj', 67), ('Vaishnavi', 16), ('Vedant', 45)]\n"
          ]
        }
      ]
    },
    {
      "cell_type": "code",
      "source": [
        "#3\n",
        "def replaceVowels(str, K):\n",
        "    vowels = 'aeiou'\n",
        "    for i in vowels:\n",
        "        str = str.replace(i, K)\n",
        "    return str\n",
        "\n",
        "input_str = \"I am Bob - THE BUILDER\"\n",
        "K = \"i\"\n",
        "\n",
        "print(\"Input string =\", input_str)\n",
        "print(\"Specified vowel =\", K)\n",
        "print(\"After replacing =\", replaceVowels(input_str, K))"
      ],
      "metadata": {
        "colab": {
          "base_uri": "https://localhost:8080/"
        },
        "id": "LoKEpBqTqUch",
        "outputId": "fa720f57-de1b-4dda-b0fa-773438f465da"
      },
      "execution_count": null,
      "outputs": [
        {
          "output_type": "stream",
          "name": "stdout",
          "text": [
            "Input string = I am Bob - THE BUILDER\n",
            "Specified vowel = i\n",
            "After replacing = I im Bib - THE BUILDER\n"
          ]
        }
      ]
    },
    {
      "cell_type": "code",
      "source": [
        "#4\n",
        "#def function3(str):\n",
        "rocky = \"Hey,How are you? \"\n",
        "z = list(rocky)\n",
        "print(z)\n",
        "go = []\n",
        "for i in z:\n",
        "    go.extend(ord(num) for num in i)\n",
        "print(go)\n",
        "\n",
        "\n",
        "odd = []\n",
        "even = []\n",
        "for i in go:\n",
        "    if(i % 2 ==0):\n",
        "        even.append(i)\n",
        "    else:\n",
        "        odd.append(i)"
      ],
      "metadata": {
        "colab": {
          "base_uri": "https://localhost:8080/"
        },
        "id": "9ZfKTA0DqXO1",
        "outputId": "f774fab8-1230-4305-f897-a5f61c544016"
      },
      "execution_count": null,
      "outputs": [
        {
          "output_type": "stream",
          "name": "stdout",
          "text": [
            "['H', 'e', 'y', ',', 'H', 'o', 'w', ' ', 'a', 'r', 'e', ' ', 'y', 'o', 'u', '?', ' ']\n",
            "[72, 101, 121, 44, 72, 111, 119, 32, 97, 114, 101, 32, 121, 111, 117, 63, 32]\n"
          ]
        }
      ]
    },
    {
      "cell_type": "code",
      "source": [
        "#5\n",
        "def lunalovegood(st):\n",
        "  res = []\n",
        "  for index, c in enumerate(st):\n",
        "    if index % 2 == 0:\n",
        "      res.append(c.upper())\n",
        "    else:\n",
        "      res.append(c.lower())\n",
        "  return '' .join(res)\n",
        "print(lunalovegood(\"you're just as sane as I am.\"))"
      ],
      "metadata": {
        "colab": {
          "base_uri": "https://localhost:8080/"
        },
        "id": "DgyKmKJTqYaQ",
        "outputId": "4dc17220-7d88-4fc3-b5a2-c85a1bda741c"
      },
      "execution_count": null,
      "outputs": [
        {
          "output_type": "stream",
          "name": "stdout",
          "text": [
            "YoU'Re jUsT As sAnE As i aM.\n"
          ]
        }
      ]
    }
  ]
}
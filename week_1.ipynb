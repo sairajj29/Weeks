{
  "nbformat": 4,
  "nbformat_minor": 0,
  "metadata": {
    "colab": {
      "provenance": [],
      "collapsed_sections": [],
      "authorship_tag": "ABX9TyNIWDRAsSni4uNWRRpbF/+B",
      "include_colab_link": true
    },
    "kernelspec": {
      "name": "python3",
      "display_name": "Python 3"
    },
    "language_info": {
      "name": "python"
    }
  },
  "cells": [
    {
      "cell_type": "markdown",
      "metadata": {
        "id": "view-in-github",
        "colab_type": "text"
      },
      "source": [
        "<a href=\"https://colab.research.google.com/github/sairajj29/Weeks/blob/main/week_1.ipynb\" target=\"_parent\"><img src=\"https://colab.research.google.com/assets/colab-badge.svg\" alt=\"Open In Colab\"/></a>"
      ]
    },
    {
      "cell_type": "markdown",
      "source": [
        "Section A"
      ],
      "metadata": {
        "id": "2ivLNeZTjLUN"
      }
    },
    {
      "cell_type": "code",
      "execution_count": null,
      "metadata": {
        "colab": {
          "base_uri": "https://localhost:8080/"
        },
        "id": "uLGNi09IfzW5",
        "outputId": "a4697d3e-014a-404b-efde-163bad1c5dea"
      },
      "outputs": [
        {
          "output_type": "stream",
          "name": "stdout",
          "text": [
            "Hello Python\n"
          ]
        }
      ],
      "source": [
        "#Q1)write a python program to print \"Hello Python\"\n",
        "\n",
        "a=str(\"Hello Python\")\n",
        "print(a)"
      ]
    },
    {
      "cell_type": "code",
      "source": [
        "#Q2)Write a Python program to do arithmetical operations addition and division?\n",
        "\n",
        "a=20\n",
        "b=10\n",
        "print(a+b)\n",
        "print(a/b)\n"
      ],
      "metadata": {
        "colab": {
          "base_uri": "https://localhost:8080/"
        },
        "id": "fY7sEJQ9ksDA",
        "outputId": "598de2b9-adc0-4e50-f89a-ab62c641ed4d"
      },
      "execution_count": null,
      "outputs": [
        {
          "output_type": "stream",
          "name": "stdout",
          "text": [
            "30\n",
            "2.0\n"
          ]
        }
      ]
    },
    {
      "cell_type": "code",
      "source": [
        "#Q3)Write a Python program to find the area of a triangle?\n",
        "\n",
        "base = float(input(\"Enter a base:\"))\n",
        "height = float(input(\"Enter the height:\"))\n",
        "Area = 0.5*base*height\n",
        "print(\"Area of Triangle:\",Area)"
      ],
      "metadata": {
        "colab": {
          "base_uri": "https://localhost:8080/"
        },
        "id": "mOflyftPlerp",
        "outputId": "b5087de2-8a8c-48f5-b2c6-9fcddca9fae3"
      },
      "execution_count": null,
      "outputs": [
        {
          "output_type": "stream",
          "name": "stdout",
          "text": [
            "Enter a base:4\n",
            "Enter the height:8\n",
            "Area of Triangle: 16.0\n"
          ]
        }
      ]
    },
    {
      "cell_type": "code",
      "source": [
        "#Q4)Write a Python program to swap two variables?\n",
        "\n",
        "a=\"Sairaj\"\n",
        "b=\"Patil\"\n",
        "print(\"a before swapping: \",a,\"b before swapping: \",b)\n",
        "c=a\n",
        "a=b\n",
        "b=c\n",
        "print(\"a after swapping: \",a,\"b after swapping:\",b)\n"
      ],
      "metadata": {
        "colab": {
          "base_uri": "https://localhost:8080/"
        },
        "id": "mXIOXGClmwqe",
        "outputId": "2607e992-89ec-4627-9f86-c0fa2819f823"
      },
      "execution_count": null,
      "outputs": [
        {
          "output_type": "stream",
          "name": "stdout",
          "text": [
            "a before swapping:  Sairaj b before swapping:  Patil\n",
            "a after swapping:  Patil b after swapping: Sairaj\n"
          ]
        }
      ]
    },
    {
      "cell_type": "code",
      "source": [
        "#Q5)Write a Python program to generate a random number?\n",
        "\n",
        "import random\n",
        "a=random.randrange(1,9999)\n",
        "print(a)"
      ],
      "metadata": {
        "colab": {
          "base_uri": "https://localhost:8080/"
        },
        "id": "2AaOQYFqoLV5",
        "outputId": "ae8cbb47-938a-41a3-bbdf-888cb09f5a20"
      },
      "execution_count": null,
      "outputs": [
        {
          "output_type": "stream",
          "name": "stdout",
          "text": [
            "9894\n"
          ]
        }
      ]
    },
    {
      "cell_type": "markdown",
      "source": [
        "Section B\n"
      ],
      "metadata": {
        "id": "LAxCjOGK6Bkq"
      }
    },
    {
      "cell_type": "code",
      "source": [
        "#Q1)Write a python program to convert kilometers to miles?\n",
        "KM = int(input(\"Enter Kilometer value:\"))\n",
        "miles = 0.621* KM\n",
        "print(KM ,\" km = \",miles ,'miles')\n"
      ],
      "metadata": {
        "colab": {
          "base_uri": "https://localhost:8080/"
        },
        "id": "Lm8Zku1S6Ag8",
        "outputId": "a3b147b5-eb8b-47fc-c5e1-365341e04560"
      },
      "execution_count": null,
      "outputs": [
        {
          "output_type": "stream",
          "name": "stdout",
          "text": [
            "Enter Kilometer value:10\n",
            "10  km =  6.21 miles\n"
          ]
        }
      ]
    },
    {
      "cell_type": "code",
      "source": [
        "#Q2)Write a python program to convert Celsius to Fahrenheit?\n",
        "Celsius = float(input(\"Enter celsius value:\"))\n",
        "Fahrenhiet = (Celsius*1.8)+32\n",
        "print(Celsius,\" °C =\",Fahrenhiet,\"℉\")"
      ],
      "metadata": {
        "colab": {
          "base_uri": "https://localhost:8080/"
        },
        "id": "WOm0CMUX7B34",
        "outputId": "b0b60c66-7529-4e87-ea7d-652edc8124a3"
      },
      "execution_count": null,
      "outputs": [
        {
          "output_type": "stream",
          "name": "stdout",
          "text": [
            "Enter celsius value:25\n",
            "25.0  °C = 77.0 ℉\n"
          ]
        }
      ]
    },
    {
      "cell_type": "code",
      "source": [
        "#Q3)Write a python program to display calender?\n",
        "import calendar\n",
        "yy = 2022\n",
        "mm = 11 #month\n",
        "print(calendar.month(yy,mm))"
      ],
      "metadata": {
        "colab": {
          "base_uri": "https://localhost:8080/"
        },
        "id": "9zU0VPAl7H84",
        "outputId": "952fbc7b-ae36-4758-f269-eefb21bac9d8"
      },
      "execution_count": null,
      "outputs": [
        {
          "output_type": "stream",
          "name": "stdout",
          "text": [
            "   November 2022\n",
            "Mo Tu We Th Fr Sa Su\n",
            "    1  2  3  4  5  6\n",
            " 7  8  9 10 11 12 13\n",
            "14 15 16 17 18 19 20\n",
            "21 22 23 24 25 26 27\n",
            "28 29 30\n",
            "\n"
          ]
        }
      ]
    },
    {
      "cell_type": "code",
      "source": [
        "#Q4)Write a python program to solve quadratic equation?"
      ],
      "metadata": {
        "id": "8MNKFziv8K3r"
      },
      "execution_count": null,
      "outputs": []
    },
    {
      "cell_type": "code",
      "source": [
        "#Q5)Write a python program to swap two variables without temp variables?\n",
        "x = 19\n",
        "y = 29\n",
        "temp = x\n",
        "x = y\n",
        "y = temp\n",
        "print('The value of x after swapping: {}'.format(x))\n",
        "print('The value of y after swapping: {}'.format(y))"
      ],
      "metadata": {
        "colab": {
          "base_uri": "https://localhost:8080/"
        },
        "id": "LGBDhP338PVD",
        "outputId": "45b4f327-a5c1-4f53-d290-324c9ee9b8aa"
      },
      "execution_count": null,
      "outputs": [
        {
          "output_type": "stream",
          "name": "stdout",
          "text": [
            "The value of x after swapping: 29\n",
            "The value of y after swapping: 19\n"
          ]
        }
      ]
    },
    {
      "cell_type": "markdown",
      "source": [
        "Section C"
      ],
      "metadata": {
        "id": "ECAXaLls8v5g"
      }
    },
    {
      "cell_type": "code",
      "source": [
        "#Q1)Write a python program to check if a number is positive, negative or zero?\n",
        "num = float(input(\"Enter a number: \"))\n",
        "if num >= 0:\n",
        "   if num == 0:\n",
        "       print(\"Zero\")\n",
        "   else:\n",
        "       print(\"Positive number\")\n",
        "else:\n",
        "   print(\"Negative number\")"
      ],
      "metadata": {
        "colab": {
          "base_uri": "https://localhost:8080/"
        },
        "id": "HAQEg-2x8sIx",
        "outputId": "478a78a4-607c-4b7a-c5ba-b3de68349b9f"
      },
      "execution_count": null,
      "outputs": [
        {
          "output_type": "stream",
          "name": "stdout",
          "text": [
            "Enter a number: 16\n",
            "Positive number\n"
          ]
        }
      ]
    },
    {
      "cell_type": "code",
      "source": [
        "#Q2)Write a Python Program to Check if a Number is Odd or Even?\n",
        "num = int(input(\"Enter a number: \"))\n",
        "if (num % 2) == 0:\n",
        "   print(\"{0} is Even\".format(num))\n",
        "else:\n",
        "   print(\"{0} is Odd\".format(num))"
      ],
      "metadata": {
        "colab": {
          "base_uri": "https://localhost:8080/"
        },
        "id": "61wjmvwX88H6",
        "outputId": "5dda81cd-c341-43b4-b9e5-20699e065bff"
      },
      "execution_count": null,
      "outputs": [
        {
          "output_type": "stream",
          "name": "stdout",
          "text": [
            "Enter a number: 9\n",
            "9 is Odd\n"
          ]
        }
      ]
    },
    {
      "cell_type": "code",
      "source": [
        "#Q3) Write a Python Program to Check Leap Year?\n"
      ],
      "metadata": {
        "id": "7Ueps3aW9EjS"
      },
      "execution_count": null,
      "outputs": []
    },
    {
      "cell_type": "code",
      "source": [
        "#Q4)Write a Python Program to Check Prime number?\n",
        "num = int(input(\"Enter a number: \"))\n",
        "python = False\n",
        "if num > 1:\n",
        "  for i in range(2, num):\n",
        "        if (num % i) == 0:\n",
        "            python = True\n",
        "            break\n",
        "if python:\n",
        "    print(num, \"is not a prime number\")\n",
        "else:\n",
        "    print(num, \"is a prime number\")"
      ],
      "metadata": {
        "colab": {
          "base_uri": "https://localhost:8080/"
        },
        "id": "Y9-P6pkf9N5T",
        "outputId": "6c4a2cb8-b426-497d-984f-b33e41b6d58a"
      },
      "execution_count": null,
      "outputs": [
        {
          "output_type": "stream",
          "name": "stdout",
          "text": [
            "Enter a number: 35\n",
            "35 is not a prime number\n"
          ]
        }
      ]
    },
    {
      "cell_type": "code",
      "source": [
        "#Q5)Write a python program to print all prime number in an Interval of 1-10000?\n",
        "lower = 1\n",
        "upper = 10000\n",
        "print(\"Prime numbers between\", lower, \"and\", upper, \"are:\")\n",
        "for num in range(lower, upper + 1):\n",
        "  if num > 1:\n",
        "       for i in range(2, num):\n",
        "           if (num % i) == 0:\n",
        "               break\n",
        "       else:\n",
        "           print(num)"
      ],
      "metadata": {
        "id": "F_Wi4G229Vtk"
      },
      "execution_count": null,
      "outputs": []
    },
    {
      "cell_type": "markdown",
      "source": [
        "Section D\n"
      ],
      "metadata": {
        "id": "A6LZ-PIf9flZ"
      }
    },
    {
      "cell_type": "code",
      "source": [
        "#Q1)Write a Python program to find the Fractional of a Number?"
      ],
      "metadata": {
        "id": "KDMrfvd89ba6"
      },
      "execution_count": null,
      "outputs": []
    },
    {
      "cell_type": "code",
      "source": [
        "#Q2)Write a python program to display the multplication table?\n",
        "num = 8\n",
        "for i in range (1,11): \n",
        "  print(num, 'x', i,'=',num*i)"
      ],
      "metadata": {
        "colab": {
          "base_uri": "https://localhost:8080/"
        },
        "id": "hVwIfX_K9l5p",
        "outputId": "27ebaaee-3f7b-4a2d-fbe3-208f629efbd1"
      },
      "execution_count": null,
      "outputs": [
        {
          "output_type": "stream",
          "name": "stdout",
          "text": [
            "8 x 1 = 8\n",
            "8 x 2 = 16\n",
            "8 x 3 = 24\n",
            "8 x 4 = 32\n",
            "8 x 5 = 40\n",
            "8 x 6 = 48\n",
            "8 x 7 = 56\n",
            "8 x 8 = 64\n",
            "8 x 9 = 72\n",
            "8 x 10 = 80\n"
          ]
        }
      ]
    },
    {
      "cell_type": "code",
      "source": [
        "#Q3)Wite a python program to print the Fibonacci sequence?\n",
        "n_1 = 0\n",
        "n_2 = 1\n",
        "count = 0\n",
        "n_terms = int(input())\n",
        "if n_terms <= 0:\n",
        "  print(\"Please enter a positive integer , the given number is not valid\")\n",
        "elif n_terms == 1:\n",
        "  print(\"The Fibonacci sequence of the number up to\", n_terms, \": \")\n",
        "  print(n_1)\n",
        "else:\n",
        "    print (\"The fibonacci sequence of the number is:\")\n",
        "    while count < n_terms:\n",
        "      nth = n_1 + n_2\n",
        "      n_1 = n_2\n",
        "      n_2 = nth\n",
        "      count= count + 1\n",
        "      print(nth)"
      ],
      "metadata": {
        "colab": {
          "base_uri": "https://localhost:8080/"
        },
        "id": "2jZNzi1V9y5B",
        "outputId": "9ead3709-1277-4fa3-e86c-de33afd801cc"
      },
      "execution_count": null,
      "outputs": [
        {
          "output_type": "stream",
          "name": "stdout",
          "text": [
            "5\n",
            "The fibonacci sequence of the number is:\n",
            "1\n",
            "2\n",
            "3\n",
            "5\n",
            "8\n"
          ]
        }
      ]
    },
    {
      "cell_type": "code",
      "source": [
        "#Q4)Write a python program to check Armstrong Number?\n",
        "num = int(input(\"Enter a number: \"))\n",
        "sum=0\n",
        "temp = num\n",
        "while temp > 0:\n",
        "   digit = temp % 10\n",
        "   sum += digit ** 3\n",
        "   temp //= 10\n",
        "if num == sum:\n",
        "   print(num,\"is an Armstrong number\")\n",
        "else:\n",
        "   print(num,\"is not an Armstrong number\")"
      ],
      "metadata": {
        "colab": {
          "base_uri": "https://localhost:8080/"
        },
        "id": "PSG8rsvo99xh",
        "outputId": "9ceb0705-4ffe-4ca3-b4af-0047c267d365"
      },
      "execution_count": null,
      "outputs": [
        {
          "output_type": "stream",
          "name": "stdout",
          "text": [
            "Enter a number: 343\n",
            "343 is not an Armstrong number\n"
          ]
        }
      ]
    },
    {
      "cell_type": "code",
      "source": [
        "#Q5)Write a python program to find Armstrong number in an interval?\n",
        "lower = 100\n",
        "upper = 1000\n",
        "for num in range(lower , upper + 1):\n",
        "  order = len(str(num))\n",
        "  sum= 0\n",
        "  temp = num\n",
        "  while temp > 0:\n",
        "       digit = temp % 10\n",
        "       sum += digit ** order\n",
        "       temp //= 10\n",
        "  if num == sum:\n",
        "       print(num)"
      ],
      "metadata": {
        "colab": {
          "base_uri": "https://localhost:8080/"
        },
        "id": "ZjflOKBk-ETK",
        "outputId": "937cde5b-b172-44af-8a48-d1274432d711"
      },
      "execution_count": null,
      "outputs": [
        {
          "output_type": "stream",
          "name": "stdout",
          "text": [
            "153\n",
            "370\n",
            "371\n",
            "407\n"
          ]
        }
      ]
    },
    {
      "cell_type": "code",
      "source": [
        "#Q6)Write a python program to find the sum of Natural numbers?\n",
        "num = 20\n",
        "if num < 0:\n",
        "   print(\"Enter a positive number\")\n",
        "else:\n",
        "   sum = 0\n",
        "   while(num > 0):\n",
        "       sum += num\n",
        "       num -= 1\n",
        "   print(\"The sum is\", sum)"
      ],
      "metadata": {
        "colab": {
          "base_uri": "https://localhost:8080/"
        },
        "id": "nQgs6cNW-Joi",
        "outputId": "fe5df89e-54f5-4d2c-f6c6-43db67072c33"
      },
      "execution_count": null,
      "outputs": [
        {
          "output_type": "stream",
          "name": "stdout",
          "text": [
            "The sum is 210\n"
          ]
        }
      ]
    }
  ]
}
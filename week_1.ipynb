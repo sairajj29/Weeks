{
  "nbformat": 4,
  "nbformat_minor": 0,
  "metadata": {
    "colab": {
      "provenance": [],
      "collapsed_sections": [],
      "include_colab_link": true
    },
    "kernelspec": {
      "name": "python3",
      "display_name": "Python 3"
    },
    "language_info": {
      "name": "python"
    }
  },
  "cells": [
    {
      "cell_type": "markdown",
      "metadata": {
        "id": "view-in-github",
        "colab_type": "text"
      },
      "source": [
        "<a href=\"https://colab.research.google.com/github/sairajj29/Weeks/blob/main/week_1.ipynb\" target=\"_parent\"><img src=\"https://colab.research.google.com/assets/colab-badge.svg\" alt=\"Open In Colab\"/></a>"
      ]
    },
    {
      "cell_type": "markdown",
      "source": [
        "Section A"
      ],
      "metadata": {
        "id": "2ivLNeZTjLUN"
      }
    },
    {
      "cell_type": "code",
      "execution_count": null,
      "metadata": {
        "colab": {
          "base_uri": "https://localhost:8080/"
        },
        "id": "uLGNi09IfzW5",
        "outputId": "a4697d3e-014a-404b-efde-163bad1c5dea"
      },
      "outputs": [
        {
          "output_type": "stream",
          "name": "stdout",
          "text": [
            "Hello Python\n"
          ]
        }
      ],
      "source": [
        "#Q1)write a python program to print \"Hello Python\"\n",
        "\n",
        "a=str(\"Hello Python\")\n",
        "print(a)"
      ]
    },
    {
      "cell_type": "code",
      "source": [
        "#Q2)Write a Python program to do arithmetical operations addition and division?\n",
        "\n",
        "a=20\n",
        "b=10\n",
        "print(a+b)\n",
        "print(a/b)\n"
      ],
      "metadata": {
        "colab": {
          "base_uri": "https://localhost:8080/"
        },
        "id": "fY7sEJQ9ksDA",
        "outputId": "598de2b9-adc0-4e50-f89a-ab62c641ed4d"
      },
      "execution_count": null,
      "outputs": [
        {
          "output_type": "stream",
          "name": "stdout",
          "text": [
            "30\n",
            "2.0\n"
          ]
        }
      ]
    },
    {
      "cell_type": "code",
      "source": [
        "#Q3)Write a Python program to find the area of a triangle?\n",
        "\n",
        "base = float(input(\"Enter a base:\"))\n",
        "height = float(input(\"Enter the height:\"))\n",
        "Area = 0.5*base*height\n",
        "print(\"Area of Triangle:\",Area)"
      ],
      "metadata": {
        "colab": {
          "base_uri": "https://localhost:8080/"
        },
        "id": "mOflyftPlerp",
        "outputId": "b5087de2-8a8c-48f5-b2c6-9fcddca9fae3"
      },
      "execution_count": null,
      "outputs": [
        {
          "output_type": "stream",
          "name": "stdout",
          "text": [
            "Enter a base:4\n",
            "Enter the height:8\n",
            "Area of Triangle: 16.0\n"
          ]
        }
      ]
    },
    {
      "cell_type": "code",
      "source": [
        "#Q4)Write a Python program to swap two variables?\n",
        "\n",
        "a=\"Sairaj\"\n",
        "b=\"Patil\"\n",
        "print(\"a before swapping: \",a,\"b before swapping: \",b)\n",
        "c=a\n",
        "a=b\n",
        "b=c\n",
        "print(\"a after swapping: \",a,\"b after swapping:\",b)\n"
      ],
      "metadata": {
        "colab": {
          "base_uri": "https://localhost:8080/"
        },
        "id": "mXIOXGClmwqe",
        "outputId": "2607e992-89ec-4627-9f86-c0fa2819f823"
      },
      "execution_count": null,
      "outputs": [
        {
          "output_type": "stream",
          "name": "stdout",
          "text": [
            "a before swapping:  Sairaj b before swapping:  Patil\n",
            "a after swapping:  Patil b after swapping: Sairaj\n"
          ]
        }
      ]
    },
    {
      "cell_type": "code",
      "source": [
        "#Q5)Write a Python program to generate a random number?\n",
        "\n",
        "import random\n",
        "a=random.randrange(1,9999)\n",
        "print(a)"
      ],
      "metadata": {
        "colab": {
          "base_uri": "https://localhost:8080/"
        },
        "id": "2AaOQYFqoLV5",
        "outputId": "ae8cbb47-938a-41a3-bbdf-888cb09f5a20"
      },
      "execution_count": null,
      "outputs": [
        {
          "output_type": "stream",
          "name": "stdout",
          "text": [
            "9894\n"
          ]
        }
      ]
    },
    {
      "cell_type": "markdown",
      "source": [
        "Section B\n"
      ],
      "metadata": {
        "id": "LAxCjOGK6Bkq"
      }
    },
    {
      "cell_type": "code",
      "source": [
        "#Q1)Write a python program to convert kilometers to miles?\n",
        "KM = int(input(\"Enter Kilometer value:\"))\n",
        "miles = 0.621* KM\n",
        "print(KM ,\" km = \",miles ,'miles')\n"
      ],
      "metadata": {
        "colab": {
          "base_uri": "https://localhost:8080/"
        },
        "id": "Lm8Zku1S6Ag8",
        "outputId": "a3b147b5-eb8b-47fc-c5e1-365341e04560"
      },
      "execution_count": null,
      "outputs": [
        {
          "output_type": "stream",
          "name": "stdout",
          "text": [
            "Enter Kilometer value:10\n",
            "10  km =  6.21 miles\n"
          ]
        }
      ]
    },
    {
      "cell_type": "code",
      "source": [
        "#Q2)Write a python program to convert Celsius to Fahrenheit?\n",
        "Celsius = float(input(\"Enter celsius value:\"))\n",
        "Fahrenhiet = (Celsius*1.8)+32\n",
        "print(Celsius,\" °C =\",Fahrenhiet,\"℉\")"
      ],
      "metadata": {
        "colab": {
          "base_uri": "https://localhost:8080/"
        },
        "id": "WOm0CMUX7B34",
        "outputId": "b0b60c66-7529-4e87-ea7d-652edc8124a3"
      },
      "execution_count": null,
      "outputs": [
        {
          "output_type": "stream",
          "name": "stdout",
          "text": [
            "Enter celsius value:25\n",
            "25.0  °C = 77.0 ℉\n"
          ]
        }
      ]
    },
    {
      "cell_type": "code",
      "source": [
        "#Q3)Write a python program to display calender?\n",
        "import calendar\n",
        "yy = 2022\n",
        "mm = 11 #month\n",
        "print(calendar.month(yy,mm))"
      ],
      "metadata": {
        "colab": {
          "base_uri": "https://localhost:8080/"
        },
        "id": "9zU0VPAl7H84",
        "outputId": "952fbc7b-ae36-4758-f269-eefb21bac9d8"
      },
      "execution_count": null,
      "outputs": [
        {
          "output_type": "stream",
          "name": "stdout",
          "text": [
            "   November 2022\n",
            "Mo Tu We Th Fr Sa Su\n",
            "    1  2  3  4  5  6\n",
            " 7  8  9 10 11 12 13\n",
            "14 15 16 17 18 19 20\n",
            "21 22 23 24 25 26 27\n",
            "28 29 30\n",
            "\n"
          ]
        }
      ]
    },
    {
      "cell_type": "code",
      "source": [
        "#Q4)Write a python program to solve quadratic equation?"
      ],
      "metadata": {
        "id": "8MNKFziv8K3r"
      },
      "execution_count": null,
      "outputs": []
    },
    {
      "cell_type": "code",
      "source": [
        "#Q5)Write a python program to swap two variables without temp variables?\n",
        "x = 19\n",
        "y = 29\n",
        "temp = x\n",
        "x = y\n",
        "y = temp\n",
        "print('The value of x after swapping: {}'.format(x))\n",
        "print('The value of y after swapping: {}'.format(y))"
      ],
      "metadata": {
        "colab": {
          "base_uri": "https://localhost:8080/"
        },
        "id": "LGBDhP338PVD",
        "outputId": "45b4f327-a5c1-4f53-d290-324c9ee9b8aa"
      },
      "execution_count": null,
      "outputs": [
        {
          "output_type": "stream",
          "name": "stdout",
          "text": [
            "The value of x after swapping: 29\n",
            "The value of y after swapping: 19\n"
          ]
        }
      ]
    },
    {
      "cell_type": "markdown",
      "source": [
        "Section C"
      ],
      "metadata": {
        "id": "ECAXaLls8v5g"
      }
    },
    {
      "cell_type": "code",
      "source": [
        "#Q1)Write a python program to check if a number is positive, negative or zero?\n",
        "num = float(input(\"Enter a number: \"))\n",
        "if num >= 0:\n",
        "   if num == 0:\n",
        "       print(\"Zero\")\n",
        "   else:\n",
        "       print(\"Positive number\")\n",
        "else:\n",
        "   print(\"Negative number\")"
      ],
      "metadata": {
        "colab": {
          "base_uri": "https://localhost:8080/"
        },
        "id": "HAQEg-2x8sIx",
        "outputId": "478a78a4-607c-4b7a-c5ba-b3de68349b9f"
      },
      "execution_count": null,
      "outputs": [
        {
          "output_type": "stream",
          "name": "stdout",
          "text": [
            "Enter a number: 16\n",
            "Positive number\n"
          ]
        }
      ]
    },
    {
      "cell_type": "code",
      "source": [
        "#Q2)Write a Python Program to Check if a Number is Odd or Even?\n",
        "num = int(input(\"Enter a number: \"))\n",
        "if (num % 2) == 0:\n",
        "   print(\"{0} is Even\".format(num))\n",
        "else:\n",
        "   print(\"{0} is Odd\".format(num))"
      ],
      "metadata": {
        "colab": {
          "base_uri": "https://localhost:8080/"
        },
        "id": "61wjmvwX88H6",
        "outputId": "5dda81cd-c341-43b4-b9e5-20699e065bff"
      },
      "execution_count": null,
      "outputs": [
        {
          "output_type": "stream",
          "name": "stdout",
          "text": [
            "Enter a number: 9\n",
            "9 is Odd\n"
          ]
        }
      ]
    },
    {
      "cell_type": "code",
      "source": [
        "#Q3) Write a Python Program to Check Leap Year?\n"
      ],
      "metadata": {
        "id": "7Ueps3aW9EjS"
      },
      "execution_count": null,
      "outputs": []
    },
    {
      "cell_type": "code",
      "source": [
        "#Q4)Write a Python Program to Check Prime number?\n",
        "num = int(input(\"Enter a number: \"))\n",
        "python = False\n",
        "if num > 1:\n",
        "  for i in range(2, num):\n",
        "        if (num % i) == 0:\n",
        "            python = True\n",
        "            break\n",
        "if python:\n",
        "    print(num, \"is not a prime number\")\n",
        "else:\n",
        "    print(num, \"is a prime number\")"
      ],
      "metadata": {
        "colab": {
          "base_uri": "https://localhost:8080/"
        },
        "id": "Y9-P6pkf9N5T",
        "outputId": "6c4a2cb8-b426-497d-984f-b33e41b6d58a"
      },
      "execution_count": null,
      "outputs": [
        {
          "output_type": "stream",
          "name": "stdout",
          "text": [
            "Enter a number: 35\n",
            "35 is not a prime number\n"
          ]
        }
      ]
    },
    {
      "cell_type": "code",
      "source": [
        "#Q5)Write a python program to print all prime number in an Interval of 1-10000?\n",
        "lower = 1\n",
        "upper = 10000\n",
        "print(\"Prime numbers between\", lower, \"and\", upper, \"are:\")\n",
        "for num in range(lower, upper + 1):\n",
        "  if num > 1:\n",
        "       for i in range(2, num):\n",
        "           if (num % i) == 0:\n",
        "               break\n",
        "       else:\n",
        "           print(num)"
      ],
      "metadata": {
        "id": "F_Wi4G229Vtk"
      },
      "execution_count": null,
      "outputs": []
    },
    {
      "cell_type": "markdown",
      "source": [
        "Section D\n"
      ],
      "metadata": {
        "id": "A6LZ-PIf9flZ"
      }
    },
    {
      "cell_type": "code",
      "source": [
        "#Q1)Write a Python program to find the Fractional of a Number?"
      ],
      "metadata": {
        "id": "KDMrfvd89ba6"
      },
      "execution_count": null,
      "outputs": []
    },
    {
      "cell_type": "code",
      "source": [
        "#Q2)Write a python program to display the multplication table?\n",
        "num = 8\n",
        "for i in range (1,11): \n",
        "  print(num, 'x', i,'=',num*i)"
      ],
      "metadata": {
        "colab": {
          "base_uri": "https://localhost:8080/"
        },
        "id": "hVwIfX_K9l5p",
        "outputId": "27ebaaee-3f7b-4a2d-fbe3-208f629efbd1"
      },
      "execution_count": null,
      "outputs": [
        {
          "output_type": "stream",
          "name": "stdout",
          "text": [
            "8 x 1 = 8\n",
            "8 x 2 = 16\n",
            "8 x 3 = 24\n",
            "8 x 4 = 32\n",
            "8 x 5 = 40\n",
            "8 x 6 = 48\n",
            "8 x 7 = 56\n",
            "8 x 8 = 64\n",
            "8 x 9 = 72\n",
            "8 x 10 = 80\n"
          ]
        }
      ]
    },
    {
      "cell_type": "code",
      "source": [
        "#Q3)Wite a python program to print the Fibonacci sequence?\n",
        "n_1 = 0\n",
        "n_2 = 1\n",
        "count = 0\n",
        "n_terms = int(input())\n",
        "if n_terms <= 0:\n",
        "  print(\"Please enter a positive integer , the given number is not valid\")\n",
        "elif n_terms == 1:\n",
        "  print(\"The Fibonacci sequence of the number up to\", n_terms, \": \")\n",
        "  print(n_1)\n",
        "else:\n",
        "    print (\"The fibonacci sequence of the number is:\")\n",
        "    while count < n_terms:\n",
        "      nth = n_1 + n_2\n",
        "      n_1 = n_2\n",
        "      n_2 = nth\n",
        "      count= count + 1\n",
        "      print(nth)"
      ],
      "metadata": {
        "colab": {
          "base_uri": "https://localhost:8080/"
        },
        "id": "2jZNzi1V9y5B",
        "outputId": "9ead3709-1277-4fa3-e86c-de33afd801cc"
      },
      "execution_count": null,
      "outputs": [
        {
          "output_type": "stream",
          "name": "stdout",
          "text": [
            "5\n",
            "The fibonacci sequence of the number is:\n",
            "1\n",
            "2\n",
            "3\n",
            "5\n",
            "8\n"
          ]
        }
      ]
    },
    {
      "cell_type": "code",
      "source": [
        "#Q4)Write a python program to check Armstrong Number?\n",
        "num = int(input(\"Enter a number: \"))\n",
        "sum=0\n",
        "temp = num\n",
        "while temp > 0:\n",
        "   digit = temp % 10\n",
        "   sum += digit ** 3\n",
        "   temp //= 10\n",
        "if num == sum:\n",
        "   print(num,\"is an Armstrong number\")\n",
        "else:\n",
        "   print(num,\"is not an Armstrong number\")"
      ],
      "metadata": {
        "colab": {
          "base_uri": "https://localhost:8080/"
        },
        "id": "PSG8rsvo99xh",
        "outputId": "9ceb0705-4ffe-4ca3-b4af-0047c267d365"
      },
      "execution_count": null,
      "outputs": [
        {
          "output_type": "stream",
          "name": "stdout",
          "text": [
            "Enter a number: 343\n",
            "343 is not an Armstrong number\n"
          ]
        }
      ]
    },
    {
      "cell_type": "code",
      "source": [
        "#Q5)Write a python program to find Armstrong number in an interval?\n",
        "lower = 100\n",
        "upper = 1000\n",
        "for num in range(lower , upper + 1):\n",
        "  order = len(str(num))\n",
        "  sum= 0\n",
        "  temp = num\n",
        "  while temp > 0:\n",
        "       digit = temp % 10\n",
        "       sum += digit ** order\n",
        "       temp //= 10\n",
        "  if num == sum:\n",
        "       print(num)"
      ],
      "metadata": {
        "colab": {
          "base_uri": "https://localhost:8080/"
        },
        "id": "ZjflOKBk-ETK",
        "outputId": "937cde5b-b172-44af-8a48-d1274432d711"
      },
      "execution_count": null,
      "outputs": [
        {
          "output_type": "stream",
          "name": "stdout",
          "text": [
            "153\n",
            "370\n",
            "371\n",
            "407\n"
          ]
        }
      ]
    },
    {
      "cell_type": "code",
      "source": [
        "#Q6)Write a python program to find the sum of Natural numbers?\n",
        "num = 20\n",
        "if num < 0:\n",
        "   print(\"Enter a positive number\")\n",
        "else:\n",
        "   sum = 0\n",
        "   while(num > 0):\n",
        "       sum += num\n",
        "       num -= 1\n",
        "   print(\"The sum is\", sum)"
      ],
      "metadata": {
        "colab": {
          "base_uri": "https://localhost:8080/"
        },
        "id": "nQgs6cNW-Joi",
        "outputId": "fe5df89e-54f5-4d2c-f6c6-43db67072c33"
      },
      "execution_count": null,
      "outputs": [
        {
          "output_type": "stream",
          "name": "stdout",
          "text": [
            "The sum is 210\n"
          ]
        }
      ]
    },
    {
      "cell_type": "markdown",
      "source": [
        "Section E"
      ],
      "metadata": {
        "id": "PGhpW_T516Zg"
      }
    },
    {
      "cell_type": "code",
      "source": [
        "#Q1)Write a python program to find sum of array?\n",
        "\n",
        "arr = [2,3,4,5,9]\n",
        "for i in arr:\n",
        "  sum = i\n",
        "print(sum)"
      ],
      "metadata": {
        "colab": {
          "base_uri": "https://localhost:8080/"
        },
        "id": "2VIoQIJf17sn",
        "outputId": "d547242f-0338-4d14-d22f-43a7801959c9"
      },
      "execution_count": null,
      "outputs": [
        {
          "output_type": "stream",
          "name": "stdout",
          "text": [
            "9\n"
          ]
        }
      ]
    },
    {
      "cell_type": "code",
      "source": [
        "#Q2)Write a python program to find largest element in an array?\n",
        "\n",
        "arr = [4 , 6, 7, 8, 9, 18]\n",
        "lar=0\n",
        "for i in range(len(arr)):\n",
        "  if arr[i] > lar:\n",
        "    lar = arr[i]\n",
        "print(lar)"
      ],
      "metadata": {
        "colab": {
          "base_uri": "https://localhost:8080/"
        },
        "id": "Wwk6J6FD1-lQ",
        "outputId": "c18a0ec9-1e8d-45d2-847f-1cacc809984f"
      },
      "execution_count": null,
      "outputs": [
        {
          "output_type": "stream",
          "name": "stdout",
          "text": [
            "18\n"
          ]
        }
      ]
    },
    {
      "cell_type": "code",
      "source": [
        "#Q3)Write a python program to find array rotation?\n",
        "\n",
        "def rotateArray(a,d):\n",
        "  temp = []\n",
        "  n=len(a)\n",
        "  for i in range(d,n):\n",
        "    temp.append(a[i])\n",
        "  i=0\n",
        "  for i in range (0,d):\n",
        "    temp.append(a[i])\n",
        "  a=temp.copy()\n",
        "  return a\n",
        "\n",
        "arr = [1,2,3,4,5,6,7]\n",
        "print(\"Array after left rotation is: \",end='')\n",
        "print(rotateArray(arr,2))\n"
      ],
      "metadata": {
        "colab": {
          "base_uri": "https://localhost:8080/"
        },
        "id": "gVc9La8H2ByV",
        "outputId": "93e58cd4-705c-4820-98cc-451b099c31b7"
      },
      "execution_count": null,
      "outputs": [
        {
          "output_type": "stream",
          "name": "stdout",
          "text": [
            "Array after left rotation is: [3, 4, 5, 6, 7, 1, 2]\n"
          ]
        }
      ]
    },
    {
      "cell_type": "code",
      "source": [
        "#Q4)Write a python program to split the array and add the first part of the end?\n",
        "\n",
        "def splitArr(arr,n,k):\n",
        "  for i in range(0,k):\n",
        "    x = arr[0]\n",
        "    for j in range(0 , n-1):\n",
        "      arr[j] = arr[j+1]\n",
        "\n",
        "      arr[n-1] = x\n",
        "arr = [3, 4, 14, 16, 18, 22]\n",
        "n = len(arr)\n",
        "position=2\n",
        "\n",
        "splitArr(arr ,n , position)\n",
        "\n",
        "for i in range(0 , n):\n",
        "  print(arr[i] ,end= ' ')"
      ],
      "metadata": {
        "colab": {
          "base_uri": "https://localhost:8080/"
        },
        "id": "UdgRKOYm2FpM",
        "outputId": "91b00e85-6488-4895-b551-4e066694ec6c"
      },
      "execution_count": null,
      "outputs": [
        {
          "output_type": "stream",
          "name": "stdout",
          "text": [
            "14 16 18 3 4 4 "
          ]
        }
      ]
    },
    {
      "cell_type": "markdown",
      "source": [
        "Section F"
      ],
      "metadata": {
        "id": "4y4h8ESi2N2R"
      }
    },
    {
      "cell_type": "code",
      "source": [
        "#Q1)Write a Python program to find sum of elements in list? \n",
        "\n",
        "a = 0\n",
        "list1 = [7, 14, 6, 19, 23] \n",
        "for ele in range(0, len(list1)): \n",
        "  a = a + list1[ele] \n",
        "  print(\"Sum of all elements in given list: \",a ) \n"
      ],
      "metadata": {
        "colab": {
          "base_uri": "https://localhost:8080/"
        },
        "id": "GpLZsTn82IuA",
        "outputId": "5325e43d-d1a9-4c04-e620-79844c73d2eb"
      },
      "execution_count": null,
      "outputs": [
        {
          "output_type": "stream",
          "name": "stdout",
          "text": [
            "Sum of all elements in given list:  7\n",
            "Sum of all elements in given list:  21\n",
            "Sum of all elements in given list:  27\n",
            "Sum of all elements in given list:  46\n",
            "Sum of all elements in given list:  69\n"
          ]
        }
      ]
    },
    {
      "cell_type": "code",
      "source": [
        "#Q2)Write a Python program to Multiply all numbers in the list? \n",
        "\n",
        "def multiplyList(myList) : \n",
        "  result = 1\n",
        "  for x in myList: \n",
        "    result = result * x\n",
        "  return result \n",
        "list1 = [20, 16, 55] \n",
        "list2 = [44, 37, 56] \n",
        "print(multiplyList(list1)) \n",
        "print(multiplyList(list2)) \n"
      ],
      "metadata": {
        "colab": {
          "base_uri": "https://localhost:8080/"
        },
        "id": "w1k87kF625FQ",
        "outputId": "3545341b-841e-49d9-8ba9-d641103c3f50"
      },
      "execution_count": null,
      "outputs": [
        {
          "output_type": "stream",
          "name": "stdout",
          "text": [
            "17600\n",
            "91168\n"
          ]
        }
      ]
    },
    {
      "cell_type": "code",
      "source": [
        "#Q3)Write a Python program to find smallest number in a list? \n",
        "\n",
        "l = [140, 290, 233, 41, 69] \n",
        "l.sort() \n",
        "print(\"Smallest element is:\", *l[:1]) "
      ],
      "metadata": {
        "colab": {
          "base_uri": "https://localhost:8080/"
        },
        "id": "1AwHxOpu3tAV",
        "outputId": "a9ad2d5f-c660-4b31-eea1-f16983b34eec"
      },
      "execution_count": null,
      "outputs": [
        {
          "output_type": "stream",
          "name": "stdout",
          "text": [
            "Smallest element is: 41\n"
          ]
        }
      ]
    },
    {
      "cell_type": "code",
      "source": [
        "#Q4)Write a Python program to find largest number in a list? \n",
        "\n",
        "list = [199, 25, 784, 15, 779] \n",
        "print(\"Largest element is:\", max(list)) "
      ],
      "metadata": {
        "colab": {
          "base_uri": "https://localhost:8080/"
        },
        "id": "bh48ZGtV4yir",
        "outputId": "75c3a7ba-ee59-4731-a98c-3e6d83dd0e9b"
      },
      "execution_count": null,
      "outputs": [
        {
          "output_type": "stream",
          "name": "stdout",
          "text": [
            "Largest element is: 784\n"
          ]
        }
      ]
    },
    {
      "cell_type": "code",
      "source": [
        "#Q6)Write a Python program to find N largest elements from a list? \n",
        "\n",
        "def Nmaxelements(list, N):\n",
        "  final_list = [] \n",
        "  \n",
        "  for i in range(0, N): \n",
        "    max1 = 0 \n",
        "    \n",
        "    for j in range(len(list)): \n",
        "      if list[j] > max1: \n",
        "        max1 = list[j]; \n",
        "\n",
        "    list.remove(max1); \n",
        "    final_list.append(max1) \n",
        "\n",
        "  print(final_list) \n",
        "list = [23,44,55,65,76,89,33,85] \n",
        "N = 2 \n",
        "Nmaxelements(list, N)\n"
      ],
      "metadata": {
        "colab": {
          "base_uri": "https://localhost:8080/"
        },
        "id": "adNWGWId5O2X",
        "outputId": "29f6e0dc-13d5-422b-a81c-a3f0ae66dbab"
      },
      "execution_count": null,
      "outputs": [
        {
          "output_type": "stream",
          "name": "stdout",
          "text": [
            "[89, 85]\n"
          ]
        }
      ]
    },
    {
      "cell_type": "code",
      "source": [
        "#Q7)Write a Python program to print even numbers in a list? \n",
        "\n",
        "list = [14,55,32,456,67,89] \n",
        "num = 0 \n",
        "while(num < len(list)): \n",
        "  if list[num] % 2 == 0: \n",
        "   print(list[num], end=\" \")  \n",
        "  num += 1 "
      ],
      "metadata": {
        "colab": {
          "base_uri": "https://localhost:8080/"
        },
        "id": "XkBxKI6l9LSH",
        "outputId": "6c73a791-e8d4-4bba-b51d-a2177164b8b5"
      },
      "execution_count": null,
      "outputs": [
        {
          "output_type": "stream",
          "name": "stdout",
          "text": [
            "14 32 456 "
          ]
        }
      ]
    },
    {
      "cell_type": "code",
      "source": [
        "#Q8)Write a Python program to print odd numbers in a List? \n",
        "\n",
        "\n",
        "list = [2,5,66,75,43,89] \n",
        "for num in list: \n",
        "  \n",
        "  if num % 2 != 0: \n",
        "   print(num, end = \" \") \n"
      ],
      "metadata": {
        "colab": {
          "base_uri": "https://localhost:8080/"
        },
        "id": "M0LQPLWq-oge",
        "outputId": "d1d26423-f241-4cb6-debe-a6d436bda160"
      },
      "execution_count": null,
      "outputs": [
        {
          "output_type": "stream",
          "name": "stdout",
          "text": [
            "5 75 43 89 "
          ]
        }
      ]
    },
    {
      "cell_type": "code",
      "source": [],
      "metadata": {
        "id": "zeAaitMH-q5C"
      },
      "execution_count": null,
      "outputs": []
    }
  ]
}